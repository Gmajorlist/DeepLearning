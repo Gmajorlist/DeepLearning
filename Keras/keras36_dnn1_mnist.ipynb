{
 "cells": [
  {
   "cell_type": "code",
   "execution_count": null,
   "metadata": {},
   "outputs": [],
   "source": [
    "from tensorflow.keras.datasets import mnist\n",
    "from tensorflow.keras.models import Sequential\n",
    "from tensorflow.keras.layers import Dense, Dropout\n",
    "from tensorflow.keras.callbacks import EarlyStopping, ModelCheckpoint\n",
    "from tensorflow.keras.utils import to_categorical\n",
    "import matplotlib.pyplot as plt\n",
    "import numpy as np"
   ]
  },
  {
   "cell_type": "code",
   "execution_count": null,
   "metadata": {},
   "outputs": [],
   "source": [
    "(x_train, y_train), (x_test, y_test) = mnist.load_data()\n",
    "\n",
    "print(np.unique(y_train, return_counts = True)) \n",
    "\n",
    "print(x_train.shape, y_train.shape)\n",
    "print(x_test.shape, y_test.shape)   \n",
    "\n",
    "figure = plt.figure(figsize=(20,5))\n",
    "for i in range(36):\n",
    "    img = figure.add_subplot(4, 9, i+1, xticks=[], yticks=[])\n",
    "    img.imshow(x_train[i], 'gray')       \n",
    "\n",
    "# ---------- 전처리 (2차원으로 변환) ---------- #\n",
    "x_train = x_train.reshape(60000, 28*28)\n",
    "x_test = x_test.reshape(10000, 28*28)\n",
    "\n",
    "print(x_train.shape, y_train.shape)\n",
    "print(x_test.shape, y_test.shape)  \n",
    "\n",
    "x_test = x_test/255.0\n",
    "x_train = x_train/255.0\n",
    "\n",
    "y_train = to_categorical(y_train)\n",
    "y_test = to_categorical(y_test)"
   ]
  },
  {
   "cell_type": "code",
   "execution_count": null,
   "metadata": {},
   "outputs": [],
   "source": [
    "model = Sequential()\n",
    "model.add(Dense(units=64, input_shape=(28*28, ), activation='relu')) \n",
    "model.add(Dense(units=64, activation='relu')) \n",
    "model.add(Dropout(0.3)) \n",
    "model.add(Dense(units=32, activation='relu')) \n",
    "model.add(Dropout(0.3)) \n",
    "model.add(Dense(units=16, activation='linear')) \n",
    "model.add(Dense(units=10, activation='softmax')) \n",
    "model.summary()"
   ]
  },
  {
   "cell_type": "code",
   "execution_count": null,
   "metadata": {},
   "outputs": [],
   "source": [
    "model.compile(loss='categorical_crossentropy', optimizer='adam', metrics='acc') # one-hot encoding 하지 않아도 되는 데이터이므로 loss= sparse_categorical_crossentropy\n",
    "\n",
    "path = 'C:/study/keras/keras_save/MCP/'\n",
    "MCP = ModelCheckpoint(monitor='acc', mode='auto', save_best_only=True, filepath=path+'keras36_1_mnist.hdf5') \n",
    "ES = EarlyStopping(monitor='acc', mode='auto', patience=4, restore_best_weights=True) \n",
    "model.fit(x_train, y_train, epochs=32, batch_size=512, validation_split=0.1, callbacks=[ES, MCP])"
   ]
  },
  {
   "cell_type": "markdown",
   "metadata": {},
   "source": []
  },
  {
   "cell_type": "code",
   "execution_count": null,
   "metadata": {},
   "outputs": [],
   "source": [
    "metric = model.evaluate(x_test, y_test) # compile에서 metrics = acc를 지정했으므로 evaluate는 값을 배열 형태로 2개 반환함\n",
    "print('loss: ', metric[0], 'acc: ', metric[1])"
   ]
  }
 ],
 "metadata": {
  "kernelspec": {
   "display_name": "tf27",
   "language": "python",
   "name": "python3"
  },
  "language_info": {
   "codemirror_mode": {
    "name": "ipython",
    "version": 3
   },
   "file_extension": ".py",
   "mimetype": "text/x-python",
   "name": "python",
   "nbconvert_exporter": "python",
   "pygments_lexer": "ipython3",
   "version": "3.9.7 (default, Sep 16 2021, 16:59:28) [MSC v.1916 64 bit (AMD64)]"
  },
  "orig_nbformat": 4,
  "vscode": {
   "interpreter": {
    "hash": "0246fc4f49b37430789f57de78831cc3045a734d1c943957c6054cc2e8f299b3"
   }
  }
 },
 "nbformat": 4,
 "nbformat_minor": 2
}
